{
 "cells": [
  {
   "cell_type": "markdown",
   "metadata": {
    "_cell_guid": "c986a9fb-e199-40eb-947d-c398d54f6b1e",
    "_uuid": "0ce8368deb46a77d2115dbc3d37859e8aa20c953"
   },
   "source": [
    "# <center>Practice 03. Линейная регрессия</center>\n",
    "## <center>Part 02. Многомерный случай, стоимость домов</center>"
   ]
  },
  {
   "cell_type": "code",
   "execution_count": 1,
   "metadata": {},
   "outputs": [],
   "source": [
    "import numpy as np \n",
    "import pandas as pd\n",
    "import matplotlib.pyplot as plt\n",
    "%matplotlib inline\n",
    "import seaborn as sns\n",
    "\n",
    "# устанавливаем точность чисел с плавающей точкой\n",
    "%precision %.4f\n",
    "\n",
    "import warnings\n",
    "warnings.filterwarnings('ignore')  # отключаем предупреждения"
   ]
  },
  {
   "cell_type": "markdown",
   "metadata": {},
   "source": [
    "Рассмотрим датасет для предсказания стоимости домов, который можно скачать [тут](https://www.kaggle.com/competitions/house-prices-advanced-regression-techniques/data).\n",
    "\n",
    "Необходимо решить задачу регрессии и научиться предсказывать целовой признак **SalePrice** –– стоимость дома."
   ]
  },
  {
   "cell_type": "markdown",
   "metadata": {},
   "source": [
    "**Обучающая и тестовая выборки**\n",
    "<br>\n",
    "<img src=\"https://camo.githubusercontent.com/daa1f5ac4f44b6de65a1e61176bd6011b72eea4d15033ffbfb0db3c98ee5c19b/68747470733a2f2f7265732e636c6f7564696e6172792e636f6d2f6479643931316b6d682f696d6167652f75706c6f61642f665f6175746f2c715f6175746f3a626573742f76313534333833363838332f696d6167655f365f6366706a70722e706e67\"/>"
   ]
  },
  {
   "cell_type": "markdown",
   "metadata": {},
   "source": [
    "**Метрики оценки качества модели после обучения**\n",
    "<br>\n",
    "<img src=\"https://miro.medium.com/max/1400/1*Ug7uflGlIAjFe6lFMACnfA.png\"/>"
   ]
  },
  {
   "cell_type": "markdown",
   "metadata": {},
   "source": [
    "**Основные этапы решения**\n",
    "- Считать данные (**pd.read_csv()**)\n",
    "- Разделить данные на нецелевые признаки **X** и целовой признак (столбец) **y**\n",
    "- Разделить данные на обучающую **X_train**, **y_train** и тестовую **X_test**, **y_test** выборки (**train_test_split()** из **sklearn.model_selection**)\n",
    "- Выбрать и подключить модель машинного обучения (**from sklearn.linear_model import LinearRegression**)\n",
    "- Обучить модель на обучающей выборке (**model = LinearRegression().fit(X_train, y_train)**)\n",
    "- Предсказать целевой признак на тестовых данных (**y_test_pred = model.predict(X_test)**)\n",
    "- Выбрать метрику для оценки качества модели, например отличная метрика **R2** (**from sklearn.metrics import r2_score**)\n",
    "- Оценить качество построенной модели посчитав эту метрику для полученных **y_test_pred** и истинных **y_test** ответов на тестовых данных (**r2_score(y_test, y_test_pred)**)\n",
    "- Сделать выводы (для **R2** - если близко к 1, то отлично, а если бликзо к 0, то почти глупый предсказатель получился, предсказывающий всегда один и тот же ответ)"
   ]
  },
  {
   "cell_type": "markdown",
   "metadata": {},
   "source": [
    "### Считываем данные"
   ]
  },
  {
   "cell_type": "code",
   "execution_count": 2,
   "metadata": {
    "_cell_guid": "c12ac199-e3e3-4372-a747-baa6273f4561",
    "_uuid": "ebc88acccbc14bf28e4e4d49eee1ea82dcc31ab4",
    "jupyter": {
     "outputs_hidden": true
    }
   },
   "outputs": [
    {
     "data": {
      "text/html": [
       "<div>\n",
       "<style scoped>\n",
       "    .dataframe tbody tr th:only-of-type {\n",
       "        vertical-align: middle;\n",
       "    }\n",
       "\n",
       "    .dataframe tbody tr th {\n",
       "        vertical-align: top;\n",
       "    }\n",
       "\n",
       "    .dataframe thead th {\n",
       "        text-align: right;\n",
       "    }\n",
       "</style>\n",
       "<table border=\"1\" class=\"dataframe\">\n",
       "  <thead>\n",
       "    <tr style=\"text-align: right;\">\n",
       "      <th></th>\n",
       "      <th>Id</th>\n",
       "      <th>MSSubClass</th>\n",
       "      <th>MSZoning</th>\n",
       "      <th>LotFrontage</th>\n",
       "      <th>LotArea</th>\n",
       "      <th>Street</th>\n",
       "      <th>Alley</th>\n",
       "      <th>LotShape</th>\n",
       "      <th>LandContour</th>\n",
       "      <th>Utilities</th>\n",
       "      <th>...</th>\n",
       "      <th>PoolArea</th>\n",
       "      <th>PoolQC</th>\n",
       "      <th>Fence</th>\n",
       "      <th>MiscFeature</th>\n",
       "      <th>MiscVal</th>\n",
       "      <th>MoSold</th>\n",
       "      <th>YrSold</th>\n",
       "      <th>SaleType</th>\n",
       "      <th>SaleCondition</th>\n",
       "      <th>SalePrice</th>\n",
       "    </tr>\n",
       "  </thead>\n",
       "  <tbody>\n",
       "    <tr>\n",
       "      <th>0</th>\n",
       "      <td>1</td>\n",
       "      <td>60</td>\n",
       "      <td>RL</td>\n",
       "      <td>65.0</td>\n",
       "      <td>8450</td>\n",
       "      <td>Pave</td>\n",
       "      <td>NaN</td>\n",
       "      <td>Reg</td>\n",
       "      <td>Lvl</td>\n",
       "      <td>AllPub</td>\n",
       "      <td>...</td>\n",
       "      <td>0</td>\n",
       "      <td>NaN</td>\n",
       "      <td>NaN</td>\n",
       "      <td>NaN</td>\n",
       "      <td>0</td>\n",
       "      <td>2</td>\n",
       "      <td>2008</td>\n",
       "      <td>WD</td>\n",
       "      <td>Normal</td>\n",
       "      <td>208500</td>\n",
       "    </tr>\n",
       "    <tr>\n",
       "      <th>1</th>\n",
       "      <td>2</td>\n",
       "      <td>20</td>\n",
       "      <td>RL</td>\n",
       "      <td>80.0</td>\n",
       "      <td>9600</td>\n",
       "      <td>Pave</td>\n",
       "      <td>NaN</td>\n",
       "      <td>Reg</td>\n",
       "      <td>Lvl</td>\n",
       "      <td>AllPub</td>\n",
       "      <td>...</td>\n",
       "      <td>0</td>\n",
       "      <td>NaN</td>\n",
       "      <td>NaN</td>\n",
       "      <td>NaN</td>\n",
       "      <td>0</td>\n",
       "      <td>5</td>\n",
       "      <td>2007</td>\n",
       "      <td>WD</td>\n",
       "      <td>Normal</td>\n",
       "      <td>181500</td>\n",
       "    </tr>\n",
       "    <tr>\n",
       "      <th>2</th>\n",
       "      <td>3</td>\n",
       "      <td>60</td>\n",
       "      <td>RL</td>\n",
       "      <td>68.0</td>\n",
       "      <td>11250</td>\n",
       "      <td>Pave</td>\n",
       "      <td>NaN</td>\n",
       "      <td>IR1</td>\n",
       "      <td>Lvl</td>\n",
       "      <td>AllPub</td>\n",
       "      <td>...</td>\n",
       "      <td>0</td>\n",
       "      <td>NaN</td>\n",
       "      <td>NaN</td>\n",
       "      <td>NaN</td>\n",
       "      <td>0</td>\n",
       "      <td>9</td>\n",
       "      <td>2008</td>\n",
       "      <td>WD</td>\n",
       "      <td>Normal</td>\n",
       "      <td>223500</td>\n",
       "    </tr>\n",
       "    <tr>\n",
       "      <th>3</th>\n",
       "      <td>4</td>\n",
       "      <td>70</td>\n",
       "      <td>RL</td>\n",
       "      <td>60.0</td>\n",
       "      <td>9550</td>\n",
       "      <td>Pave</td>\n",
       "      <td>NaN</td>\n",
       "      <td>IR1</td>\n",
       "      <td>Lvl</td>\n",
       "      <td>AllPub</td>\n",
       "      <td>...</td>\n",
       "      <td>0</td>\n",
       "      <td>NaN</td>\n",
       "      <td>NaN</td>\n",
       "      <td>NaN</td>\n",
       "      <td>0</td>\n",
       "      <td>2</td>\n",
       "      <td>2006</td>\n",
       "      <td>WD</td>\n",
       "      <td>Abnorml</td>\n",
       "      <td>140000</td>\n",
       "    </tr>\n",
       "    <tr>\n",
       "      <th>4</th>\n",
       "      <td>5</td>\n",
       "      <td>60</td>\n",
       "      <td>RL</td>\n",
       "      <td>84.0</td>\n",
       "      <td>14260</td>\n",
       "      <td>Pave</td>\n",
       "      <td>NaN</td>\n",
       "      <td>IR1</td>\n",
       "      <td>Lvl</td>\n",
       "      <td>AllPub</td>\n",
       "      <td>...</td>\n",
       "      <td>0</td>\n",
       "      <td>NaN</td>\n",
       "      <td>NaN</td>\n",
       "      <td>NaN</td>\n",
       "      <td>0</td>\n",
       "      <td>12</td>\n",
       "      <td>2008</td>\n",
       "      <td>WD</td>\n",
       "      <td>Normal</td>\n",
       "      <td>250000</td>\n",
       "    </tr>\n",
       "  </tbody>\n",
       "</table>\n",
       "<p>5 rows × 81 columns</p>\n",
       "</div>"
      ],
      "text/plain": [
       "   Id  MSSubClass MSZoning  LotFrontage  LotArea Street Alley LotShape  \\\n",
       "0   1          60       RL         65.0     8450   Pave   NaN      Reg   \n",
       "1   2          20       RL         80.0     9600   Pave   NaN      Reg   \n",
       "2   3          60       RL         68.0    11250   Pave   NaN      IR1   \n",
       "3   4          70       RL         60.0     9550   Pave   NaN      IR1   \n",
       "4   5          60       RL         84.0    14260   Pave   NaN      IR1   \n",
       "\n",
       "  LandContour Utilities  ... PoolArea PoolQC Fence MiscFeature MiscVal MoSold  \\\n",
       "0         Lvl    AllPub  ...        0    NaN   NaN         NaN       0      2   \n",
       "1         Lvl    AllPub  ...        0    NaN   NaN         NaN       0      5   \n",
       "2         Lvl    AllPub  ...        0    NaN   NaN         NaN       0      9   \n",
       "3         Lvl    AllPub  ...        0    NaN   NaN         NaN       0      2   \n",
       "4         Lvl    AllPub  ...        0    NaN   NaN         NaN       0     12   \n",
       "\n",
       "  YrSold  SaleType  SaleCondition  SalePrice  \n",
       "0   2008        WD         Normal     208500  \n",
       "1   2007        WD         Normal     181500  \n",
       "2   2008        WD         Normal     223500  \n",
       "3   2006        WD        Abnorml     140000  \n",
       "4   2008        WD         Normal     250000  \n",
       "\n",
       "[5 rows x 81 columns]"
      ]
     },
     "execution_count": 2,
     "metadata": {},
     "output_type": "execute_result"
    }
   ],
   "source": [
    "df = pd.read_csv('../../data/house_price/train.csv')\n",
    "df.head()"
   ]
  },
  {
   "cell_type": "code",
   "execution_count": 3,
   "metadata": {
    "_cell_guid": "03e86158-c720-48f7-8dde-ee11f79b7893",
    "_uuid": "6bad00c321363076e535c13a1ad70026c17042f3",
    "jupyter": {
     "outputs_hidden": true
    }
   },
   "outputs": [
    {
     "data": {
      "text/plain": [
       "(1460, 80)"
      ]
     },
     "execution_count": 3,
     "metadata": {},
     "output_type": "execute_result"
    }
   ],
   "source": [
    "df = df.drop(columns=[\"Id\"])\n",
    "df.shape"
   ]
  },
  {
   "cell_type": "markdown",
   "metadata": {},
   "source": [
    "### Отделим нецелевые признаки от целевых"
   ]
  },
  {
   "cell_type": "code",
   "execution_count": 4,
   "metadata": {},
   "outputs": [],
   "source": [
    "y = df[\"SalePrice\"]\n",
    "X = df.drop(columns=[\"SalePrice\"])"
   ]
  },
  {
   "cell_type": "markdown",
   "metadata": {},
   "source": [
    "### Разобьём нашу выборку на обучающую и тестовую\n",
    "\n",
    "Зачем нужен random_state?"
   ]
  },
  {
   "cell_type": "code",
   "execution_count": 5,
   "metadata": {
    "_cell_guid": "5ef569cd-e99e-42f0-93ec-abbc6a90c00e",
    "_uuid": "1496190095fb1cd2e289c63c986c6eb951046860",
    "jupyter": {
     "outputs_hidden": true
    }
   },
   "outputs": [],
   "source": [
    "from sklearn.model_selection import train_test_split\n",
    "\n",
    "X_train, X_test, y_train, y_test = train_test_split(X, y, test_size=0.3, random_state=42)"
   ]
  },
  {
   "cell_type": "code",
   "execution_count": 6,
   "metadata": {
    "_cell_guid": "fabb7625-a8ef-4f37-99c6-3ec93679ef1f",
    "_uuid": "c60257aef24e867113873729829c7a1e33f4a0ab",
    "jupyter": {
     "outputs_hidden": true
    }
   },
   "outputs": [
    {
     "name": "stdout",
     "output_type": "stream",
     "text": [
      "<class 'pandas.core.frame.DataFrame'>\n",
      "RangeIndex: 1460 entries, 0 to 1459\n",
      "Data columns (total 80 columns):\n",
      " #   Column         Non-Null Count  Dtype  \n",
      "---  ------         --------------  -----  \n",
      " 0   MSSubClass     1460 non-null   int64  \n",
      " 1   MSZoning       1460 non-null   object \n",
      " 2   LotFrontage    1201 non-null   float64\n",
      " 3   LotArea        1460 non-null   int64  \n",
      " 4   Street         1460 non-null   object \n",
      " 5   Alley          91 non-null     object \n",
      " 6   LotShape       1460 non-null   object \n",
      " 7   LandContour    1460 non-null   object \n",
      " 8   Utilities      1460 non-null   object \n",
      " 9   LotConfig      1460 non-null   object \n",
      " 10  LandSlope      1460 non-null   object \n",
      " 11  Neighborhood   1460 non-null   object \n",
      " 12  Condition1     1460 non-null   object \n",
      " 13  Condition2     1460 non-null   object \n",
      " 14  BldgType       1460 non-null   object \n",
      " 15  HouseStyle     1460 non-null   object \n",
      " 16  OverallQual    1460 non-null   int64  \n",
      " 17  OverallCond    1460 non-null   int64  \n",
      " 18  YearBuilt      1460 non-null   int64  \n",
      " 19  YearRemodAdd   1460 non-null   int64  \n",
      " 20  RoofStyle      1460 non-null   object \n",
      " 21  RoofMatl       1460 non-null   object \n",
      " 22  Exterior1st    1460 non-null   object \n",
      " 23  Exterior2nd    1460 non-null   object \n",
      " 24  MasVnrType     1452 non-null   object \n",
      " 25  MasVnrArea     1452 non-null   float64\n",
      " 26  ExterQual      1460 non-null   object \n",
      " 27  ExterCond      1460 non-null   object \n",
      " 28  Foundation     1460 non-null   object \n",
      " 29  BsmtQual       1423 non-null   object \n",
      " 30  BsmtCond       1423 non-null   object \n",
      " 31  BsmtExposure   1422 non-null   object \n",
      " 32  BsmtFinType1   1423 non-null   object \n",
      " 33  BsmtFinSF1     1460 non-null   int64  \n",
      " 34  BsmtFinType2   1422 non-null   object \n",
      " 35  BsmtFinSF2     1460 non-null   int64  \n",
      " 36  BsmtUnfSF      1460 non-null   int64  \n",
      " 37  TotalBsmtSF    1460 non-null   int64  \n",
      " 38  Heating        1460 non-null   object \n",
      " 39  HeatingQC      1460 non-null   object \n",
      " 40  CentralAir     1460 non-null   object \n",
      " 41  Electrical     1459 non-null   object \n",
      " 42  1stFlrSF       1460 non-null   int64  \n",
      " 43  2ndFlrSF       1460 non-null   int64  \n",
      " 44  LowQualFinSF   1460 non-null   int64  \n",
      " 45  GrLivArea      1460 non-null   int64  \n",
      " 46  BsmtFullBath   1460 non-null   int64  \n",
      " 47  BsmtHalfBath   1460 non-null   int64  \n",
      " 48  FullBath       1460 non-null   int64  \n",
      " 49  HalfBath       1460 non-null   int64  \n",
      " 50  BedroomAbvGr   1460 non-null   int64  \n",
      " 51  KitchenAbvGr   1460 non-null   int64  \n",
      " 52  KitchenQual    1460 non-null   object \n",
      " 53  TotRmsAbvGrd   1460 non-null   int64  \n",
      " 54  Functional     1460 non-null   object \n",
      " 55  Fireplaces     1460 non-null   int64  \n",
      " 56  FireplaceQu    770 non-null    object \n",
      " 57  GarageType     1379 non-null   object \n",
      " 58  GarageYrBlt    1379 non-null   float64\n",
      " 59  GarageFinish   1379 non-null   object \n",
      " 60  GarageCars     1460 non-null   int64  \n",
      " 61  GarageArea     1460 non-null   int64  \n",
      " 62  GarageQual     1379 non-null   object \n",
      " 63  GarageCond     1379 non-null   object \n",
      " 64  PavedDrive     1460 non-null   object \n",
      " 65  WoodDeckSF     1460 non-null   int64  \n",
      " 66  OpenPorchSF    1460 non-null   int64  \n",
      " 67  EnclosedPorch  1460 non-null   int64  \n",
      " 68  3SsnPorch      1460 non-null   int64  \n",
      " 69  ScreenPorch    1460 non-null   int64  \n",
      " 70  PoolArea       1460 non-null   int64  \n",
      " 71  PoolQC         7 non-null      object \n",
      " 72  Fence          281 non-null    object \n",
      " 73  MiscFeature    54 non-null     object \n",
      " 74  MiscVal        1460 non-null   int64  \n",
      " 75  MoSold         1460 non-null   int64  \n",
      " 76  YrSold         1460 non-null   int64  \n",
      " 77  SaleType       1460 non-null   object \n",
      " 78  SaleCondition  1460 non-null   object \n",
      " 79  SalePrice      1460 non-null   int64  \n",
      "dtypes: float64(3), int64(34), object(43)\n",
      "memory usage: 912.6+ KB\n"
     ]
    }
   ],
   "source": [
    "df.info()"
   ]
  },
  {
   "cell_type": "markdown",
   "metadata": {},
   "source": [
    "Разберёмся с пропущенными количественными значениями."
   ]
  },
  {
   "cell_type": "code",
   "execution_count": 7,
   "metadata": {},
   "outputs": [],
   "source": [
    "numeric_data = X_train.select_dtypes([np.number])\n",
    "numeric_mean = numeric_data.mean()\n",
    "numeric_features = numeric_data.columns\n",
    "\n",
    "X_train = X_train.fillna(numeric_mean)\n",
    "X_test = X_test.fillna(numeric_mean)"
   ]
  },
  {
   "cell_type": "markdown",
   "metadata": {},
   "source": [
    "### Построение модели, обучение и оценка качества"
   ]
  },
  {
   "cell_type": "markdown",
   "metadata": {},
   "source": [
    "Полезные библиотеки:\n",
    "- sklearn для простых моделей (линейные модели, деревья), \n",
    "- XGBoost и др. для ансамбля над деревьями,\n",
    "- PyTorch, Tensorflow и др. для нейронных сетей."
   ]
  },
  {
   "cell_type": "markdown",
   "metadata": {},
   "source": [
    "Для линейной регрессии в sklearn:\n",
    "\n",
    "- LinearRegression –– линейная регрессия с функцией потерь MSE\n",
    "- Ridge –– линейная регрессия с функцией потерь MSE и $\\ell_2$-регуляризатором\n",
    "- Lasso — линейная регрессия с функцией потерь MSE и $\\ell_1$-регуляризатором"
   ]
  },
  {
   "cell_type": "code",
   "execution_count": 8,
   "metadata": {
    "_cell_guid": "428c84fc-9d5e-4022-a9f5-1c8ec7257268",
    "_uuid": "3554e468c8581316a717348689f1d867b3c97f6a",
    "jupyter": {
     "outputs_hidden": true
    }
   },
   "outputs": [
    {
     "name": "stdout",
     "output_type": "stream",
     "text": [
      "Test RMSE = 35244.19047321524\n",
      "Train RMSE = 34575.82106377232\n",
      "Test R2 = 0.8219925090337175\n",
      "Train R2 = 0.801367049626969\n"
     ]
    }
   ],
   "source": [
    "from sklearn.linear_model import Ridge\n",
    "from sklearn.metrics import mean_squared_error\n",
    "from sklearn.metrics import r2_score\n",
    "\n",
    "model = Ridge()  # выбранная модель\n",
    "\n",
    "model.fit(X_train[numeric_features], y_train)  # обучение модели на обучающей выборке\n",
    "\n",
    "y_train_pred = model.predict(X_train[numeric_features])  # использование модели для предсказания на обучающей\n",
    "y_test_pred = model.predict(X_test[numeric_features])  # или на тестовой выборке\n",
    "\n",
    "print(\"Test RMSE =\", mean_squared_error(y_test, y_test_pred, squared=False))\n",
    "print(\"Train RMSE =\", mean_squared_error(y_train, y_train_pred, squared=False))\n",
    "print(\"Test R2 =\", r2_score(y_test, y_test_pred))\n",
    "print(\"Train R2 =\", r2_score(y_train, y_train_pred))"
   ]
  },
  {
   "cell_type": "markdown",
   "metadata": {},
   "source": [
    "### Вывод\n",
    "\n",
    "Получив неплохое качество модели (r2 = 0.82) мы можем теперь предсказывать целовой признак **SalePrice** (стоимость дома) по множеству других его характеристик. Мы теперь можем:\n",
    "\n",
    "- Если ожидается изменение какой-то характеристики, то предсказать будущий рост или падение цены домов\n",
    "- Понимать какие цены новых домов выставленных на продажу завышены или занижены\n",
    "- Не продешевить когда сами собираемся продавать дома"
   ]
  },
  {
   "cell_type": "markdown",
   "metadata": {},
   "source": [
    "## Дополнительный материал"
   ]
  },
  {
   "cell_type": "markdown",
   "metadata": {
    "_cell_guid": "8d5bd219-61ce-4c88-b0c5-aaffce8cb1cc",
    "_uuid": "8b5ad1ae98e4aad980f24bbefb489e6ac049768b"
   },
   "source": [
    "### Кросс-валидация, масштабирование\n",
    "\n",
    "**Кросс-валидация**\n",
    "<br>\n",
    "<img src=\"https://scikit-learn.org/stable/_images/grid_search_cross_validation.png\"/>"
   ]
  },
  {
   "cell_type": "code",
   "execution_count": 9,
   "metadata": {
    "_cell_guid": "06218a7d-bf3c-40b1-9cfa-2a915f7bc005",
    "_uuid": "c06e043424e13b87fcb020322e4869430fd0714f",
    "jupyter": {
     "outputs_hidden": true
    }
   },
   "outputs": [
    {
     "name": "stdout",
     "output_type": "stream",
     "text": [
      "Cross validation scores:\n",
      "\t 0.7546\n",
      "\t0.3085\n",
      "\t0.8209\n",
      "\t0.8589\n",
      "\t0.8443\n",
      "Mean CV R2 = 0.7175\n"
     ]
    }
   ],
   "source": [
    "from sklearn.model_selection import cross_val_score\n",
    "\n",
    "cv_scores = cross_val_score(model, X_train[numeric_features], y_train, cv=5, scoring=\"r2\")\n",
    "print(\"Cross validation scores:\\n\\t\", \"\\n\\t\".join(\"%.4f\" % x for x in cv_scores))\n",
    "print(\"Mean CV R2 = %.4f\" % np.mean(cv_scores))"
   ]
  },
  {
   "cell_type": "markdown",
   "metadata": {},
   "source": [
    "Качество модели хорошо бы сравнить. Например, с глупым предсказателем."
   ]
  },
  {
   "cell_type": "code",
   "execution_count": 10,
   "metadata": {},
   "outputs": [
    {
     "name": "stdout",
     "output_type": "stream",
     "text": [
      "Test R2 with stupid predictor = -0.0002440491368771447\n",
      "Train R2 with stupid predictor = 0.0\n"
     ]
    }
   ],
   "source": [
    "stupid_pred = y_train.mean()\n",
    "print(\"Test R2 with stupid predictor =\", r2_score(y_test, stupid_pred * np.ones(y_test.shape)))\n",
    "print(\"Train R2 with stupid predictor =\", r2_score(y_train, stupid_pred * np.ones(y_train.shape)))"
   ]
  },
  {
   "cell_type": "markdown",
   "metadata": {
    "_cell_guid": "a210b0c8-dd8e-4fd0-a7f2-e597b7ed81e6",
    "_uuid": "e3b6327723dedd766d452f55b4056bbd0b37bed2"
   },
   "source": [
    "Хорошо бы масштабировать признаки перед обучением модели, чтобы каждый признак \"наравных\" боролся бы с другими за более большие коэффиценты в линейной функции. Для этого воспользуемся трансформером StandardScaler.\n",
    "\n",
    "**Масштабирование, например, стандартизация**\n",
    "<br>\n",
    "<img src=\"data:image/png;base64,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\"/>\n",
    "<br>\n",
    "<img src=\"data:image/png;base64,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\"/>"
   ]
  },
  {
   "cell_type": "code",
   "execution_count": 11,
   "metadata": {
    "_cell_guid": "2477b536-32dd-43a0-8824-be034104b760",
    "_uuid": "4a98fe27c4474296c6b51f4a2b7fb076c228b4b8",
    "jupyter": {
     "outputs_hidden": true
    }
   },
   "outputs": [
    {
     "name": "stdout",
     "output_type": "stream",
     "text": [
      "Test R2 = 0.8220\n",
      "Train R2 = 0.8014\n"
     ]
    }
   ],
   "source": [
    "from sklearn.preprocessing import StandardScaler\n",
    "\n",
    "scaler = StandardScaler()  # воспользуемся стандартным трансформером\n",
    "\n",
    "# масштабируем обучающую выборку и запоминаем среднее, стандартное отклонение признаков\n",
    "X_train_scaled = scaler.fit_transform(X_train[numeric_features])\n",
    "\n",
    "# масштабируем тестовую выборку используя статистики обучающей выборки\n",
    "X_test_scaled = scaler.transform(X_test[numeric_features])\n",
    "\n",
    "model = Ridge()\n",
    "model.fit(X_train_scaled, y_train)\n",
    "y_test_pred = model.predict(X_test_scaled)\n",
    "y_train_pred = model.predict(X_train_scaled)\n",
    "\n",
    "print(\"Test R2 = %.4f\" % r2_score(y_test, y_test_pred))\n",
    "print(\"Train R2 = %.4f\" % r2_score(y_train, y_train_pred))"
   ]
  },
  {
   "cell_type": "markdown",
   "metadata": {},
   "source": [
    "Теперь обучение и оценка важности признаков, а также регуляризация стали честнее."
   ]
  },
  {
   "cell_type": "markdown",
   "metadata": {
    "_cell_guid": "b9a8739f-9bfa-48a0-8b55-85694f8c7b36",
    "_uuid": "da1710d88cdb726d4c74d1580eb4650823f8e1a9"
   },
   "source": [
    "### Подбор гиперпараметров модели"
   ]
  },
  {
   "cell_type": "markdown",
   "metadata": {
    "_cell_guid": "d8c1dc5a-2f74-4c88-9101-6c98abaf9878",
    "_uuid": "58e1110e104a4628f2852fa284905525997c2c44",
    "jupyter": {
     "outputs_hidden": true
    }
   },
   "source": [
    "Подбор обычно идёт по сетке (логарифмической). Параметр alpha отвечает за регуляризацию (борьбу с переобучением модели). Подробнее можно прочитать в документации Ridge()."
   ]
  },
  {
   "cell_type": "code",
   "execution_count": 12,
   "metadata": {
    "_cell_guid": "cf3e9729-799e-4142-84ff-0dbb6906136e",
    "_uuid": "a43082dc51717bbcc0a036db2d78b7732eb41ef1",
    "jupyter": {
     "outputs_hidden": true
    }
   },
   "outputs": [
    {
     "data": {
      "text/plain": [
       "Text(0, 0.5, 'CV score')"
      ]
     },
     "execution_count": 12,
     "metadata": {},
     "output_type": "execute_result"
    },
    {
     "data": {
      "image/png": "[encoded data removed]",
      "text/plain": [
       "<Figure size 432x288 with 1 Axes>"
      ]
     },
     "metadata": {
      "needs_background": "light"
     },
     "output_type": "display_data"
    }
   ],
   "source": [
    "from sklearn.model_selection import GridSearchCV\n",
    "\n",
    "alpha_grid = np.logspace(-3, 3, 10)\n",
    "searcher = GridSearchCV(Ridge(), [{\"alpha\": alpha_grid}], scoring=\"neg_root_mean_squared_error\", cv=5)\n",
    "searcher.fit(X_train_scaled, y_train)\n",
    "\n",
    "plt.plot(alpha_grid, -searcher.cv_results_[\"mean_test_score\"])\n",
    "plt.xscale(\"log\")\n",
    "plt.xlabel(\"alpha\")\n",
    "plt.ylabel(\"CV score\")"
   ]
  },
  {
   "cell_type": "markdown",
   "metadata": {
    "_cell_guid": "b6f98f68-46c3-4aac-a4c7-ef350bf8ccd7",
    "_uuid": "33c3ffbed55b33a51666b95a46c9f8aaa634bb73"
   },
   "source": [
    "Так мы получим наилучшее значение гиперпараметров для выбранной модели."
   ]
  },
  {
   "cell_type": "code",
   "execution_count": 13,
   "metadata": {
    "_cell_guid": "0af8b99e-0d4b-4844-a146-da2a359ca2ff",
    "_uuid": "e92f7a0ef7ea07abb81e602fc700b382c64fca96",
    "jupyter": {
     "outputs_hidden": true
    }
   },
   "outputs": [
    {
     "name": "stdout",
     "output_type": "stream",
     "text": [
      "Best alpha = 215.4435\n"
     ]
    }
   ],
   "source": [
    "best_alpha = searcher.best_params_[\"alpha\"]\n",
    "print(\"Best alpha = %.4f\" % best_alpha)"
   ]
  },
  {
   "cell_type": "markdown",
   "metadata": {
    "_cell_guid": "1d7d94e4-240e-4cfc-ba21-d036b3bd7869",
    "_uuid": "f0514c0b00c34f72bd77eb597a4e08a1c9edf982"
   },
   "source": [
    "Теперь обучим модель с подобранным гиперпараметром регуляризации. Для удобства можно использовать класс Pipeline который хранит последовательность шагов обучения и помогает вызывать правильные методы для обучающих и тестовых выборок."
   ]
  },
  {
   "cell_type": "code",
   "execution_count": 14,
   "metadata": {
    "_cell_guid": "55b6028e-948c-4a98-a214-e86212481af4",
    "_uuid": "99a86205c88ad2c8fd96fc18225cd10ed91620dd",
    "jupyter": {
     "outputs_hidden": true
    }
   },
   "outputs": [
    {
     "name": "stdout",
     "output_type": "stream",
     "text": [
      "Test RMSE = 35455.53805664659\n",
      "Test R2 = 0.8198512055078635\n"
     ]
    }
   ],
   "source": [
    "from sklearn.pipeline import Pipeline\n",
    "\n",
    "simple_pipeline = Pipeline([\n",
    "    ('scaling', StandardScaler()),\n",
    "    ('regression', Ridge(best_alpha))\n",
    "])\n",
    "\n",
    "model = simple_pipeline.fit(X_train[numeric_features], y_train)\n",
    "y_pred = model.predict(X_test[numeric_features])\n",
    "print(\"Test RMSE =\", mean_squared_error(y_test, y_pred, squared=False))\n",
    "print(\"Test R2 =\", r2_score(y_test, y_pred))"
   ]
  },
  {
   "cell_type": "markdown",
   "metadata": {},
   "source": [
    "## <center>Part 03. Многомерный случай, аренда велосипедов (продвинутый)</center>"
   ]
  },
  {
   "cell_type": "markdown",
   "metadata": {},
   "source": [
    "**Задача**: Нам требуется предсказать значение количества арендованных велосипедов в городе Сеул. Данные можно скачать [тут](https://archive.ics.uci.edu/ml/datasets/Seoul+Bike+Sharing+Demand)."
   ]
  },
  {
   "cell_type": "markdown",
   "metadata": {},
   "source": [
    "### Описание данных"
   ]
  },
  {
   "cell_type": "markdown",
   "metadata": {},
   "source": [
    "- Date : year-month-day - Дата\n",
    "- Rented Bike count - Кол-во арендованных велосипедов каждый час\n",
    "- Hour - Выбранный час\n",
    "- Temperature - Температура в градусах Цельсия\n",
    "- Humidity (%) - Влажность\n",
    "- Windspeed (m/s) - Скорость ветра\n",
    "- Visibility (10m) - Видимость\n",
    "- Dew point temperature (Celsius) - Температура точки росы (по Цельсию)\n",
    "- Solar radiation (MJ/m2) - Солнечная радиация\n",
    "- Rainfall (mm) - Осадки дождя\n",
    "- Snowfall (cm) - Осадок снега\n",
    "- Seasons - Winter, Spring, Summer, Autumn - Сезон\n",
    "- Holiday - Holiday/No holiday - Каникулы\n",
    "- Functional Day - NoFunc(Non Functional Hours), Fun(Functional hours) - Работает ли аренда"
   ]
  },
  {
   "cell_type": "markdown",
   "metadata": {},
   "source": [
    "### Первичные преобразования характеристик"
   ]
  },
  {
   "cell_type": "code",
   "execution_count": 15,
   "metadata": {},
   "outputs": [],
   "source": [
    "df = pd.read_csv(\"../../data/seoul_bike/SeoulBikeData.csv\", encoding=\"cp1252\")"
   ]
  },
  {
   "cell_type": "code",
   "execution_count": 16,
   "metadata": {},
   "outputs": [
    {
     "data": {
      "text/html": [
       "<div>\n",
       "<style scoped>\n",
       "    .dataframe tbody tr th:only-of-type {\n",
       "        vertical-align: middle;\n",
       "    }\n",
       "\n",
       "    .dataframe tbody tr th {\n",
       "        vertical-align: top;\n",
       "    }\n",
       "\n",
       "    .dataframe thead th {\n",
       "        text-align: right;\n",
       "    }\n",
       "</style>\n",
       "<table border=\"1\" class=\"dataframe\">\n",
       "  <thead>\n",
       "    <tr style=\"text-align: right;\">\n",
       "      <th></th>\n",
       "      <th>Date</th>\n",
       "      <th>Rented Bike Count</th>\n",
       "      <th>Hour</th>\n",
       "      <th>Temperature(°C)</th>\n",
       "      <th>Humidity(%)</th>\n",
       "      <th>Wind speed (m/s)</th>\n",
       "      <th>Visibility (10m)</th>\n",
       "      <th>Dew point temperature(°C)</th>\n",
       "      <th>Solar Radiation (MJ/m2)</th>\n",
       "      <th>Rainfall(mm)</th>\n",
       "      <th>Snowfall (cm)</th>\n",
       "      <th>Seasons</th>\n",
       "      <th>Holiday</th>\n",
       "      <th>Functioning Day</th>\n",
       "    </tr>\n",
       "  </thead>\n",
       "  <tbody>\n",
       "    <tr>\n",
       "      <th>0</th>\n",
       "      <td>01/12/2017</td>\n",
       "      <td>254</td>\n",
       "      <td>0</td>\n",
       "      <td>-5.2</td>\n",
       "      <td>37</td>\n",
       "      <td>2.2</td>\n",
       "      <td>2000</td>\n",
       "      <td>-17.6</td>\n",
       "      <td>0.0</td>\n",
       "      <td>0.0</td>\n",
       "      <td>0.0</td>\n",
       "      <td>Winter</td>\n",
       "      <td>No Holiday</td>\n",
       "      <td>Yes</td>\n",
       "    </tr>\n",
       "    <tr>\n",
       "      <th>1</th>\n",
       "      <td>01/12/2017</td>\n",
       "      <td>204</td>\n",
       "      <td>1</td>\n",
       "      <td>-5.5</td>\n",
       "      <td>38</td>\n",
       "      <td>0.8</td>\n",
       "      <td>2000</td>\n",
       "      <td>-17.6</td>\n",
       "      <td>0.0</td>\n",
       "      <td>0.0</td>\n",
       "      <td>0.0</td>\n",
       "      <td>Winter</td>\n",
       "      <td>No Holiday</td>\n",
       "      <td>Yes</td>\n",
       "    </tr>\n",
       "    <tr>\n",
       "      <th>2</th>\n",
       "      <td>01/12/2017</td>\n",
       "      <td>173</td>\n",
       "      <td>2</td>\n",
       "      <td>-6.0</td>\n",
       "      <td>39</td>\n",
       "      <td>1.0</td>\n",
       "      <td>2000</td>\n",
       "      <td>-17.7</td>\n",
       "      <td>0.0</td>\n",
       "      <td>0.0</td>\n",
       "      <td>0.0</td>\n",
       "      <td>Winter</td>\n",
       "      <td>No Holiday</td>\n",
       "      <td>Yes</td>\n",
       "    </tr>\n",
       "    <tr>\n",
       "      <th>3</th>\n",
       "      <td>01/12/2017</td>\n",
       "      <td>107</td>\n",
       "      <td>3</td>\n",
       "      <td>-6.2</td>\n",
       "      <td>40</td>\n",
       "      <td>0.9</td>\n",
       "      <td>2000</td>\n",
       "      <td>-17.6</td>\n",
       "      <td>0.0</td>\n",
       "      <td>0.0</td>\n",
       "      <td>0.0</td>\n",
       "      <td>Winter</td>\n",
       "      <td>No Holiday</td>\n",
       "      <td>Yes</td>\n",
       "    </tr>\n",
       "    <tr>\n",
       "      <th>4</th>\n",
       "      <td>01/12/2017</td>\n",
       "      <td>78</td>\n",
       "      <td>4</td>\n",
       "      <td>-6.0</td>\n",
       "      <td>36</td>\n",
       "      <td>2.3</td>\n",
       "      <td>2000</td>\n",
       "      <td>-18.6</td>\n",
       "      <td>0.0</td>\n",
       "      <td>0.0</td>\n",
       "      <td>0.0</td>\n",
       "      <td>Winter</td>\n",
       "      <td>No Holiday</td>\n",
       "      <td>Yes</td>\n",
       "    </tr>\n",
       "  </tbody>\n",
       "</table>\n",
       "</div>"
      ],
      "text/plain": [
       "         Date  Rented Bike Count  Hour  Temperature(°C)  Humidity(%)  \\\n",
       "0  01/12/2017                254     0             -5.2           37   \n",
       "1  01/12/2017                204     1             -5.5           38   \n",
       "2  01/12/2017                173     2             -6.0           39   \n",
       "3  01/12/2017                107     3             -6.2           40   \n",
       "4  01/12/2017                 78     4             -6.0           36   \n",
       "\n",
       "   Wind speed (m/s)  Visibility (10m)  Dew point temperature(°C)  \\\n",
       "0               2.2              2000                      -17.6   \n",
       "1               0.8              2000                      -17.6   \n",
       "2               1.0              2000                      -17.7   \n",
       "3               0.9              2000                      -17.6   \n",
       "4               2.3              2000                      -18.6   \n",
       "\n",
       "   Solar Radiation (MJ/m2)  Rainfall(mm)  Snowfall (cm) Seasons     Holiday  \\\n",
       "0                      0.0           0.0            0.0  Winter  No Holiday   \n",
       "1                      0.0           0.0            0.0  Winter  No Holiday   \n",
       "2                      0.0           0.0            0.0  Winter  No Holiday   \n",
       "3                      0.0           0.0            0.0  Winter  No Holiday   \n",
       "4                      0.0           0.0            0.0  Winter  No Holiday   \n",
       "\n",
       "  Functioning Day  \n",
       "0             Yes  \n",
       "1             Yes  \n",
       "2             Yes  \n",
       "3             Yes  \n",
       "4             Yes  "
      ]
     },
     "execution_count": 16,
     "metadata": {},
     "output_type": "execute_result"
    }
   ],
   "source": [
    "df.head()"
   ]
  },
  {
   "cell_type": "code",
   "execution_count": 17,
   "metadata": {},
   "outputs": [
    {
     "name": "stdout",
     "output_type": "stream",
     "text": [
      "<class 'pandas.core.frame.DataFrame'>\n",
      "RangeIndex: 8760 entries, 0 to 8759\n",
      "Data columns (total 14 columns):\n",
      " #   Column                     Non-Null Count  Dtype  \n",
      "---  ------                     --------------  -----  \n",
      " 0   Date                       8760 non-null   object \n",
      " 1   Rented Bike Count          8760 non-null   int64  \n",
      " 2   Hour                       8760 non-null   int64  \n",
      " 3   Temperature(°C)            8760 non-null   float64\n",
      " 4   Humidity(%)                8760 non-null   int64  \n",
      " 5   Wind speed (m/s)           8760 non-null   float64\n",
      " 6   Visibility (10m)           8760 non-null   int64  \n",
      " 7   Dew point temperature(°C)  8760 non-null   float64\n",
      " 8   Solar Radiation (MJ/m2)    8760 non-null   float64\n",
      " 9   Rainfall(mm)               8760 non-null   float64\n",
      " 10  Snowfall (cm)              8760 non-null   float64\n",
      " 11  Seasons                    8760 non-null   object \n",
      " 12  Holiday                    8760 non-null   object \n",
      " 13  Functioning Day            8760 non-null   object \n",
      "dtypes: float64(6), int64(4), object(4)\n",
      "memory usage: 958.2+ KB\n"
     ]
    }
   ],
   "source": [
    "df.info()"
   ]
  },
  {
   "cell_type": "code",
   "execution_count": 18,
   "metadata": {},
   "outputs": [
    {
     "data": {
      "text/html": [
       "<div>\n",
       "<style scoped>\n",
       "    .dataframe tbody tr th:only-of-type {\n",
       "        vertical-align: middle;\n",
       "    }\n",
       "\n",
       "    .dataframe tbody tr th {\n",
       "        vertical-align: top;\n",
       "    }\n",
       "\n",
       "    .dataframe thead th {\n",
       "        text-align: right;\n",
       "    }\n",
       "</style>\n",
       "<table border=\"1\" class=\"dataframe\">\n",
       "  <thead>\n",
       "    <tr style=\"text-align: right;\">\n",
       "      <th></th>\n",
       "      <th>Date</th>\n",
       "      <th>Rented Bike Count</th>\n",
       "      <th>Hour</th>\n",
       "      <th>Temperature</th>\n",
       "      <th>Humidity</th>\n",
       "      <th>Wind speed</th>\n",
       "      <th>Visibility</th>\n",
       "      <th>Dew point temperature</th>\n",
       "      <th>Solar Radiation</th>\n",
       "      <th>Rainfall</th>\n",
       "      <th>Snowfall</th>\n",
       "      <th>Season</th>\n",
       "      <th>Holiday</th>\n",
       "      <th>Functioning Day</th>\n",
       "    </tr>\n",
       "  </thead>\n",
       "  <tbody>\n",
       "    <tr>\n",
       "      <th>0</th>\n",
       "      <td>2017-12-01</td>\n",
       "      <td>254</td>\n",
       "      <td>0</td>\n",
       "      <td>-5.2</td>\n",
       "      <td>37</td>\n",
       "      <td>2.2</td>\n",
       "      <td>2000</td>\n",
       "      <td>-17.6</td>\n",
       "      <td>0.0</td>\n",
       "      <td>0.0</td>\n",
       "      <td>0.0</td>\n",
       "      <td>Winter</td>\n",
       "      <td>No Holiday</td>\n",
       "      <td>Yes</td>\n",
       "    </tr>\n",
       "    <tr>\n",
       "      <th>1</th>\n",
       "      <td>2017-12-01</td>\n",
       "      <td>204</td>\n",
       "      <td>1</td>\n",
       "      <td>-5.5</td>\n",
       "      <td>38</td>\n",
       "      <td>0.8</td>\n",
       "      <td>2000</td>\n",
       "      <td>-17.6</td>\n",
       "      <td>0.0</td>\n",
       "      <td>0.0</td>\n",
       "      <td>0.0</td>\n",
       "      <td>Winter</td>\n",
       "      <td>No Holiday</td>\n",
       "      <td>Yes</td>\n",
       "    </tr>\n",
       "    <tr>\n",
       "      <th>2</th>\n",
       "      <td>2017-12-01</td>\n",
       "      <td>173</td>\n",
       "      <td>2</td>\n",
       "      <td>-6.0</td>\n",
       "      <td>39</td>\n",
       "      <td>1.0</td>\n",
       "      <td>2000</td>\n",
       "      <td>-17.7</td>\n",
       "      <td>0.0</td>\n",
       "      <td>0.0</td>\n",
       "      <td>0.0</td>\n",
       "      <td>Winter</td>\n",
       "      <td>No Holiday</td>\n",
       "      <td>Yes</td>\n",
       "    </tr>\n",
       "    <tr>\n",
       "      <th>3</th>\n",
       "      <td>2017-12-01</td>\n",
       "      <td>107</td>\n",
       "      <td>3</td>\n",
       "      <td>-6.2</td>\n",
       "      <td>40</td>\n",
       "      <td>0.9</td>\n",
       "      <td>2000</td>\n",
       "      <td>-17.6</td>\n",
       "      <td>0.0</td>\n",
       "      <td>0.0</td>\n",
       "      <td>0.0</td>\n",
       "      <td>Winter</td>\n",
       "      <td>No Holiday</td>\n",
       "      <td>Yes</td>\n",
       "    </tr>\n",
       "    <tr>\n",
       "      <th>4</th>\n",
       "      <td>2017-12-01</td>\n",
       "      <td>78</td>\n",
       "      <td>4</td>\n",
       "      <td>-6.0</td>\n",
       "      <td>36</td>\n",
       "      <td>2.3</td>\n",
       "      <td>2000</td>\n",
       "      <td>-18.6</td>\n",
       "      <td>0.0</td>\n",
       "      <td>0.0</td>\n",
       "      <td>0.0</td>\n",
       "      <td>Winter</td>\n",
       "      <td>No Holiday</td>\n",
       "      <td>Yes</td>\n",
       "    </tr>\n",
       "  </tbody>\n",
       "</table>\n",
       "</div>"
      ],
      "text/plain": [
       "        Date  Rented Bike Count  Hour  Temperature  Humidity  Wind speed  \\\n",
       "0 2017-12-01                254     0         -5.2        37         2.2   \n",
       "1 2017-12-01                204     1         -5.5        38         0.8   \n",
       "2 2017-12-01                173     2         -6.0        39         1.0   \n",
       "3 2017-12-01                107     3         -6.2        40         0.9   \n",
       "4 2017-12-01                 78     4         -6.0        36         2.3   \n",
       "\n",
       "   Visibility  Dew point temperature  Solar Radiation  Rainfall  Snowfall  \\\n",
       "0        2000                  -17.6              0.0       0.0       0.0   \n",
       "1        2000                  -17.6              0.0       0.0       0.0   \n",
       "2        2000                  -17.7              0.0       0.0       0.0   \n",
       "3        2000                  -17.6              0.0       0.0       0.0   \n",
       "4        2000                  -18.6              0.0       0.0       0.0   \n",
       "\n",
       "   Season     Holiday Functioning Day  \n",
       "0  Winter  No Holiday             Yes  \n",
       "1  Winter  No Holiday             Yes  \n",
       "2  Winter  No Holiday             Yes  \n",
       "3  Winter  No Holiday             Yes  \n",
       "4  Winter  No Holiday             Yes  "
      ]
     },
     "execution_count": 18,
     "metadata": {},
     "output_type": "execute_result"
    }
   ],
   "source": [
    "df[\"Date\"] = pd.to_datetime(df[\"Date\"], dayfirst=True)\n",
    "df = df.rename(\n",
    "    columns={\n",
    "        \"Temperature(°C)\": \"Temperature\",\n",
    "        \"Humidity(%)\": \"Humidity\",\n",
    "        \"Rainfall(mm)\": \"Rainfall\",\n",
    "        \"Snowfall (cm)\": \"Snowfall\",\n",
    "        \"Wind speed (m/s)\": \"Wind speed\",\n",
    "        \"Visibility (10m)\": \"Visibility\",\n",
    "        \"Solar Radiation (MJ/m2)\": \"Solar Radiation\",\n",
    "        \"Dew point temperature(°C)\": \"Dew point temperature\",\n",
    "        \"Seasons\": \"Season\",\n",
    "    }\n",
    ")\n",
    "df.head()"
   ]
  },
  {
   "cell_type": "code",
   "execution_count": 19,
   "metadata": {},
   "outputs": [
    {
     "data": {
      "text/plain": [
       "(8760, 14)"
      ]
     },
     "execution_count": 19,
     "metadata": {},
     "output_type": "execute_result"
    }
   ],
   "source": [
    "df.shape"
   ]
  },
  {
   "cell_type": "code",
   "execution_count": 20,
   "metadata": {},
   "outputs": [
    {
     "data": {
      "text/plain": [
       "Date                     0\n",
       "Rented Bike Count        0\n",
       "Hour                     0\n",
       "Temperature              0\n",
       "Humidity                 0\n",
       "Wind speed               0\n",
       "Visibility               0\n",
       "Dew point temperature    0\n",
       "Solar Radiation          0\n",
       "Rainfall                 0\n",
       "Snowfall                 0\n",
       "Season                   0\n",
       "Holiday                  0\n",
       "Functioning Day          0\n",
       "dtype: int64"
      ]
     },
     "execution_count": 20,
     "metadata": {},
     "output_type": "execute_result"
    }
   ],
   "source": [
    "df.isnull().sum()"
   ]
  },
  {
   "cell_type": "markdown",
   "metadata": {},
   "source": [
    "Пропущенных значений нет"
   ]
  },
  {
   "cell_type": "markdown",
   "metadata": {},
   "source": [
    "## Разведочный анализ данных (EDA)"
   ]
  },
  {
   "cell_type": "code",
   "execution_count": 21,
   "metadata": {},
   "outputs": [
    {
     "data": {
      "image/png": "[encoded data removed]",
      "text/plain": [
       "<Figure size 540x360 with 1 Axes>"
      ]
     },
     "metadata": {
      "needs_background": "light"
     },
     "output_type": "display_data"
    }
   ],
   "source": [
    "import matplotlib.ticker as ticker\n",
    "\n",
    "ax = sns.relplot(\n",
    "    x=\"Hour\", y=\"Rented Bike Count\", data=df, kind=\"line\", height=5, aspect=1.5\n",
    ")\n",
    "plt.xticks(rotation=-45)\n",
    "ax.set(xticks=df.Hour.unique())\n",
    "plt.show()"
   ]
  },
  {
   "cell_type": "markdown",
   "metadata": {},
   "source": [
    "Можно увидеть пиковые значения количества арендуемых велосипедов. Похоже на правду?"
   ]
  },
  {
   "cell_type": "code",
   "execution_count": 22,
   "metadata": {},
   "outputs": [
    {
     "data": {
      "image/png": "[encoded data removed]",
      "text/plain": [
       "<Figure size 1152x576 with 1 Axes>"
      ]
     },
     "metadata": {
      "needs_background": "light"
     },
     "output_type": "display_data"
    }
   ],
   "source": [
    "plt.figure(figsize=(16, 8))\n",
    "ax = sns.barplot(x=\"Season\", y=\"Rented Bike Count\", data=df)\n",
    "plt.show()"
   ]
  },
  {
   "cell_type": "markdown",
   "metadata": {},
   "source": [
    "Зима - не сезон, не удивительно"
   ]
  },
  {
   "cell_type": "code",
   "execution_count": 23,
   "metadata": {},
   "outputs": [
    {
     "data": {
      "image/png": "[encoded data removed]",
      "text/plain": [
       "<Figure size 1152x576 with 1 Axes>"
      ]
     },
     "metadata": {
      "needs_background": "light"
     },
     "output_type": "display_data"
    }
   ],
   "source": [
    "plt.figure(figsize=(16, 8))\n",
    "ax = sns.barplot(x=df.Date.dt.dayofweek, y=\"Rented Bike Count\", data=df)"
   ]
  },
  {
   "cell_type": "markdown",
   "metadata": {},
   "source": [
    "Количество арендованых велосипедов в среднем не зависит от дня недели"
   ]
  },
  {
   "cell_type": "code",
   "execution_count": 24,
   "metadata": {},
   "outputs": [
    {
     "data": {
      "image/png": "[encoded data removed]",
      "text/plain": [
       "<Figure size 1152x576 with 1 Axes>"
      ]
     },
     "metadata": {
      "needs_background": "light"
     },
     "output_type": "display_data"
    }
   ],
   "source": [
    "plt.figure(figsize=(16, 8))\n",
    "ax = sns.barplot(x=df.Date.dt.year, y=\"Rented Bike Count\", data=df)"
   ]
  },
  {
   "cell_type": "markdown",
   "metadata": {},
   "source": [
    "Популярность велосипедов или их количество растёт"
   ]
  },
  {
   "cell_type": "code",
   "execution_count": 25,
   "metadata": {},
   "outputs": [
    {
     "data": {
      "image/png": "[encoded data removed]",
      "text/plain": [
       "<Figure size 1152x576 with 1 Axes>"
      ]
     },
     "metadata": {
      "needs_background": "light"
     },
     "output_type": "display_data"
    }
   ],
   "source": [
    "plt.figure(figsize=(16, 8))\n",
    "ax = sns.barplot(x=df.Date.dt.month_name(), y=\"Rented Bike Count\", data=df)"
   ]
  },
  {
   "cell_type": "markdown",
   "metadata": {},
   "source": [
    "Преобразуем дату в отдельные признаки"
   ]
  },
  {
   "cell_type": "code",
   "execution_count": 26,
   "metadata": {},
   "outputs": [
    {
     "data": {
      "image/png": "[encoded data removed]",
      "text/plain": [
       "<Figure size 432x288 with 1 Axes>"
      ]
     },
     "metadata": {
      "needs_background": "light"
     },
     "output_type": "display_data"
    }
   ],
   "source": [
    "df[\"Month\"] = df.Date.dt.month\n",
    "df[\"Year\"] = df.Date.dt.year\n",
    "df[\"Day of Month\"] = df.Date.dt.day\n",
    "df[\"Day Of Week\"] = df.Date.dt.dayofweek\n",
    "\n",
    "sns.scatterplot(data=df, x=\"Month\", y=\"Season\");"
   ]
  },
  {
   "cell_type": "code",
   "execution_count": 27,
   "metadata": {
    "scrolled": false
   },
   "outputs": [],
   "source": [
    "df.drop(columns=[\"Date\"], inplace=True)"
   ]
  },
  {
   "cell_type": "code",
   "execution_count": 28,
   "metadata": {},
   "outputs": [],
   "source": [
    "from sklearn.model_selection import train_test_split\n",
    "\n",
    "y = df[\"Rented Bike Count\"]\n",
    "X = df.drop(columns=[\"Rented Bike Count\"])\n",
    "\n",
    "X_train, X_test, y_train, y_test = train_test_split(\n",
    "    X, y, test_size=0.3, random_state=42\n",
    ")"
   ]
  },
  {
   "cell_type": "code",
   "execution_count": 29,
   "metadata": {},
   "outputs": [],
   "source": [
    "numeric_data = X.select_dtypes([np.number])\n",
    "numeric_features = numeric_data.columns"
   ]
  },
  {
   "cell_type": "code",
   "execution_count": 30,
   "metadata": {},
   "outputs": [
    {
     "data": {
      "image/png": "[encoded data removed]",
      "text/plain": [
       "<Figure size 1080x720 with 1 Axes>"
      ]
     },
     "metadata": {
      "needs_background": "light"
     },
     "output_type": "display_data"
    }
   ],
   "source": [
    "correlations = X[numeric_features].corrwith(y).sort_values(ascending=False)\n",
    "plot = sns.barplot(y=correlations.index, x=correlations)\n",
    "plot.figure.set_size_inches(15, 10)"
   ]
  },
  {
   "cell_type": "markdown",
   "metadata": {},
   "source": [
    "Целевой признак наиболее выраженно коррелирует с температурой"
   ]
  },
  {
   "cell_type": "code",
   "execution_count": 31,
   "metadata": {},
   "outputs": [
    {
     "data": {
      "image/png": "[encoded data removed]",
      "text/plain": [
       "<Figure size 720x576 with 2 Axes>"
      ]
     },
     "metadata": {
      "needs_background": "light"
     },
     "output_type": "display_data"
    }
   ],
   "source": [
    "plt.figure(figsize=(10, 8))\n",
    "sns.heatmap(X[numeric_features].corr(), annot=True)\n",
    "plt.show()"
   ]
  },
  {
   "cell_type": "markdown",
   "metadata": {},
   "source": [
    "Отметим, очень высокую корреляцию между Temperature и Dew point temperature. Также можно заметить выраженную корреляцию между Humidity и Solar Radiation, а также между Humidity и Visibility"
   ]
  },
  {
   "cell_type": "code",
   "execution_count": 32,
   "metadata": {},
   "outputs": [
    {
     "data": {
      "text/html": [
       "<div>\n",
       "<style scoped>\n",
       "    .dataframe tbody tr th:only-of-type {\n",
       "        vertical-align: middle;\n",
       "    }\n",
       "\n",
       "    .dataframe tbody tr th {\n",
       "        vertical-align: top;\n",
       "    }\n",
       "\n",
       "    .dataframe thead th {\n",
       "        text-align: right;\n",
       "    }\n",
       "</style>\n",
       "<table border=\"1\" class=\"dataframe\">\n",
       "  <thead>\n",
       "    <tr style=\"text-align: right;\">\n",
       "      <th></th>\n",
       "      <th>Functioning Day</th>\n",
       "      <th>Rented Bike Count</th>\n",
       "    </tr>\n",
       "  </thead>\n",
       "  <tbody>\n",
       "    <tr>\n",
       "      <th>0</th>\n",
       "      <td>Yes</td>\n",
       "      <td>6172314</td>\n",
       "    </tr>\n",
       "    <tr>\n",
       "      <th>1</th>\n",
       "      <td>No</td>\n",
       "      <td>0</td>\n",
       "    </tr>\n",
       "  </tbody>\n",
       "</table>\n",
       "</div>"
      ],
      "text/plain": [
       "  Functioning Day  Rented Bike Count\n",
       "0             Yes            6172314\n",
       "1              No                  0"
      ]
     },
     "execution_count": 32,
     "metadata": {},
     "output_type": "execute_result"
    }
   ],
   "source": [
    "df.groupby(\"Functioning Day\").sum()[\"Rented Bike Count\"].sort_values(\n",
    "    ascending=False\n",
    ").reset_index()"
   ]
  },
  {
   "cell_type": "code",
   "execution_count": 33,
   "metadata": {},
   "outputs": [],
   "source": [
    "df.drop(df[df[\"Functioning Day\"] == \"No\"].index, inplace=True)\n",
    "df.drop(columns=[\"Functioning Day\"], inplace=True)"
   ]
  },
  {
   "cell_type": "code",
   "execution_count": 34,
   "metadata": {},
   "outputs": [
    {
     "data": {
      "image/png": "[encoded data removed]",
      "text/plain": [
       "<Figure size 288x288 with 1 Axes>"
      ]
     },
     "metadata": {
      "needs_background": "light"
     },
     "output_type": "display_data"
    }
   ],
   "source": [
    "plt.figure(figsize=(4, 4))\n",
    "ax = sns.barplot(x=\"Holiday\", y=\"Rented Bike Count\", data=df)"
   ]
  },
  {
   "cell_type": "code",
   "execution_count": 35,
   "metadata": {},
   "outputs": [],
   "source": [
    "y = df[\"Rented Bike Count\"]\n",
    "X = df.drop(columns=[\"Rented Bike Count\"])\n",
    "\n",
    "numeric_data = X.select_dtypes([np.number])\n",
    "cat_data = X.select_dtypes([\"object\"])\n",
    "numeric_features = numeric_data.columns\n",
    "cat_features = cat_data.columns"
   ]
  },
  {
   "cell_type": "markdown",
   "metadata": {},
   "source": [
    "### Построение модели"
   ]
  },
  {
   "cell_type": "code",
   "execution_count": 36,
   "metadata": {},
   "outputs": [],
   "source": [
    "from sklearn.feature_selection import RFECV\n",
    "from sklearn.compose import ColumnTransformer\n",
    "from sklearn.preprocessing import OneHotEncoder, StandardScaler\n",
    "from sklearn.pipeline import Pipeline\n",
    "from sklearn.linear_model import Ridge"
   ]
  },
  {
   "cell_type": "code",
   "execution_count": 37,
   "metadata": {},
   "outputs": [],
   "source": [
    "def print_metrics(y_true, y_pred, sample_name, predictor_name):\n",
    "    print(\n",
    "        f\"{sample_name} MSE with {predictor_name} predictor = {mean_squared_error(y_true, y_pred, squared=True):.2f}\"\n",
    "    )\n",
    "    print(\n",
    "        f\"{sample_name} RMSE with {predictor_name} predictor = {mean_squared_error(y_true, y_pred, squared=False):.2f}\"\n",
    "    )\n",
    "    print(\n",
    "        f\"{sample_name} R^2 with {predictor_name} predictor = {r2_score(y_true, y_pred):.2f}\"\n",
    "    )"
   ]
  },
  {
   "cell_type": "markdown",
   "metadata": {},
   "source": [
    "### Глупая модель"
   ]
  },
  {
   "cell_type": "code",
   "execution_count": 38,
   "metadata": {},
   "outputs": [
    {
     "name": "stdout",
     "output_type": "stream",
     "text": [
      "Test MSE with constant predictor = 395706.07\n",
      "Test RMSE with constant predictor = 629.05\n",
      "Test R^2 with constant predictor = -0.00\n",
      "Train MSE with constant predictor = 419900.39\n",
      "Train RMSE with constant predictor = 648.00\n",
      "Train R^2 with constant predictor = 0.00\n"
     ]
    }
   ],
   "source": [
    "X_train, X_test, y_train, y_test = train_test_split(\n",
    "    X, y, test_size=0.3, random_state=77\n",
    ")\n",
    "\n",
    "constant_test_pred = y_train.mean() * np.ones(y_test.size)\n",
    "constant_train_pred = y_train.mean() * np.ones(y_train.size)\n",
    "\n",
    "print_metrics(y_test, constant_test_pred, \"Test\", \"constant\")\n",
    "print_metrics(y_train, constant_train_pred, \"Train\", \"constant\")"
   ]
  },
  {
   "cell_type": "markdown",
   "metadata": {},
   "source": [
    "Также можно для удобства организовывать обучение в виде pipeline с выбранными шагами (преобразование данных и масштабирование, само обучение и др.)\n",
    "\n",
    "Построим pipeline, состоящий из следующих шагов:\n",
    "- масштабирование количественных характеристик и one-hot кодирование категориальных\n",
    "- рекурсивное исключение характеристик при помощи RFECV\n",
    "- Регрессия"
   ]
  },
  {
   "cell_type": "code",
   "execution_count": 39,
   "metadata": {},
   "outputs": [],
   "source": [
    "def create_sklearn_ridge(alpha=1.0):\n",
    "    column_transformer = ColumnTransformer(\n",
    "        [\n",
    "            (\"ohe\", OneHotEncoder(handle_unknown=\"ignore\", drop=\"first\"), cat_features),\n",
    "            (\"scaling\", StandardScaler(), numeric_features),\n",
    "        ]\n",
    "    )\n",
    "\n",
    "    pipeline = Pipeline(\n",
    "        steps=[\n",
    "            (\"ohe_and_scaling\", column_transformer),\n",
    "            (\"rfe\", RFECV(estimator=Ridge(alpha))),\n",
    "            (\"regression\", Ridge(alpha)),\n",
    "        ]\n",
    "    )\n",
    "    return pipeline"
   ]
  },
  {
   "cell_type": "code",
   "execution_count": 40,
   "metadata": {},
   "outputs": [
    {
     "data": {
      "text/plain": [
       "2.9764"
      ]
     },
     "execution_count": 40,
     "metadata": {},
     "output_type": "execute_result"
    }
   ],
   "source": [
    "alphas = np.logspace(-5, 3, 20)\n",
    "searcher = GridSearchCV(\n",
    "    create_sklearn_ridge(),\n",
    "    [{\"regression__alpha\": alphas}],\n",
    "    scoring=\"r2\",\n",
    "    cv=5,\n",
    ")\n",
    "searcher.fit(X_train, y_train)\n",
    "\n",
    "best_alpha = searcher.best_params_[\"regression__alpha\"]\n",
    "best_alpha"
   ]
  },
  {
   "cell_type": "code",
   "execution_count": 41,
   "metadata": {},
   "outputs": [
    {
     "name": "stdout",
     "output_type": "stream",
     "text": [
      "Test MSE with Ridge predictor = 174592.22\n",
      "Test RMSE with Ridge predictor = 417.84\n",
      "Test R^2 with Ridge predictor = 0.56\n"
     ]
    }
   ],
   "source": [
    "model = create_sklearn_ridge(best_alpha)\n",
    "\n",
    "model.fit(X_train, y_train)\n",
    "y_pred = model.predict(X_test)\n",
    "print_metrics(y_test, y_pred, \"Test\", \"Ridge\")"
   ]
  },
  {
   "cell_type": "markdown",
   "metadata": {},
   "source": [
    "Теперь можно предсказывать целовой признак **Rented Bike Count** (количество арендуемых велосипедов) в различные часы. Хотя модель Ridge после обучения имеет довольно низкий R2, возможно необходимо преобразовать данные или выбрать другую модель."
   ]
  }
 ],
 "metadata": {
  "anaconda-cloud": {},
  "kernelspec": {
   "display_name": "Python 3 (ipykernel)",
   "language": "python",
   "name": "python3"
  },
  "language_info": {
   "codemirror_mode": {
    "name": "ipython",
    "version": 3
   },
   "file_extension": ".py",
   "mimetype": "text/x-python",
   "name": "python",
   "nbconvert_exporter": "python",
   "pygments_lexer": "ipython3",
   "version": "3.9.12"
  }
 },
 "nbformat": 4,
 "nbformat_minor": 4
}
