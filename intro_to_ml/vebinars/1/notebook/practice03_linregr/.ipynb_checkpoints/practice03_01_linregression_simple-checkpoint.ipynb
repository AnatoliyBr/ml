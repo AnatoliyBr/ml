{
 "cells": [
  {
   "cell_type": "markdown",
   "metadata": {
    "collapsed": true,
    "id": "CrDnldd6SbjD"
   },
   "source": [
    "# <center>Practice 03. Линейная регрессия</center>\n",
    "## <center>Part 01. Двумерный случай</center>"
   ]
  },
  {
   "cell_type": "code",
   "execution_count": 1,
   "metadata": {
    "id": "z9dNKfHlKgV9"
   },
   "outputs": [],
   "source": [
    "import pandas as pd\n",
    "import io\n",
    "import matplotlib.pyplot as plt"
   ]
  },
  {
   "cell_type": "markdown",
   "metadata": {},
   "source": [
    "Допустим у нас есть небольшой набор данных, где х –– это количество людей в очереди, а y –– это сколько минут нам придётся в очереди прождать. Мы будем решать задачу регрессии, а именно будем предсказывать y по x."
   ]
  },
  {
   "cell_type": "code",
   "execution_count": 2,
   "metadata": {
    "id": "rSDRdfV0jPiL"
   },
   "outputs": [],
   "source": [
    "data = \"\"\"id,X,Y\n",
    "1,3,8\n",
    "2,18,34\n",
    "3,17,46\n",
    "4,24,60\n",
    "5,7,19\n",
    "6,19,31\n",
    "7,8,11\n",
    "8,10,19\n",
    "9,20,45\n",
    "10,6,7\"\"\""
   ]
  },
  {
   "cell_type": "code",
   "execution_count": 3,
   "metadata": {
    "colab": {
     "base_uri": "https://localhost:8080/",
     "height": 390
    },
    "id": "ttuFYs6pjRYd",
    "outputId": "eb7bdbb7-943d-4d09-9ef6-c5b34c9ba59b"
   },
   "outputs": [
    {
     "data": {
      "text/html": [
       "<div>\n",
       "<style scoped>\n",
       "    .dataframe tbody tr th:only-of-type {\n",
       "        vertical-align: middle;\n",
       "    }\n",
       "\n",
       "    .dataframe tbody tr th {\n",
       "        vertical-align: top;\n",
       "    }\n",
       "\n",
       "    .dataframe thead th {\n",
       "        text-align: right;\n",
       "    }\n",
       "</style>\n",
       "<table border=\"1\" class=\"dataframe\">\n",
       "  <thead>\n",
       "    <tr style=\"text-align: right;\">\n",
       "      <th></th>\n",
       "      <th>X</th>\n",
       "      <th>Y</th>\n",
       "    </tr>\n",
       "    <tr>\n",
       "      <th>id</th>\n",
       "      <th></th>\n",
       "      <th></th>\n",
       "    </tr>\n",
       "  </thead>\n",
       "  <tbody>\n",
       "    <tr>\n",
       "      <th>1</th>\n",
       "      <td>3</td>\n",
       "      <td>8</td>\n",
       "    </tr>\n",
       "    <tr>\n",
       "      <th>2</th>\n",
       "      <td>18</td>\n",
       "      <td>34</td>\n",
       "    </tr>\n",
       "    <tr>\n",
       "      <th>3</th>\n",
       "      <td>17</td>\n",
       "      <td>46</td>\n",
       "    </tr>\n",
       "    <tr>\n",
       "      <th>4</th>\n",
       "      <td>24</td>\n",
       "      <td>60</td>\n",
       "    </tr>\n",
       "    <tr>\n",
       "      <th>5</th>\n",
       "      <td>7</td>\n",
       "      <td>19</td>\n",
       "    </tr>\n",
       "    <tr>\n",
       "      <th>6</th>\n",
       "      <td>19</td>\n",
       "      <td>31</td>\n",
       "    </tr>\n",
       "    <tr>\n",
       "      <th>7</th>\n",
       "      <td>8</td>\n",
       "      <td>11</td>\n",
       "    </tr>\n",
       "    <tr>\n",
       "      <th>8</th>\n",
       "      <td>10</td>\n",
       "      <td>19</td>\n",
       "    </tr>\n",
       "    <tr>\n",
       "      <th>9</th>\n",
       "      <td>20</td>\n",
       "      <td>45</td>\n",
       "    </tr>\n",
       "    <tr>\n",
       "      <th>10</th>\n",
       "      <td>6</td>\n",
       "      <td>7</td>\n",
       "    </tr>\n",
       "  </tbody>\n",
       "</table>\n",
       "</div>"
      ],
      "text/plain": [
       "     X   Y\n",
       "id        \n",
       "1    3   8\n",
       "2   18  34\n",
       "3   17  46\n",
       "4   24  60\n",
       "5    7  19\n",
       "6   19  31\n",
       "7    8  11\n",
       "8   10  19\n",
       "9   20  45\n",
       "10   6   7"
      ]
     },
     "execution_count": 3,
     "metadata": {},
     "output_type": "execute_result"
    }
   ],
   "source": [
    "data = pd.read_csv(io.StringIO(data), index_col = 'id')\n",
    "data"
   ]
  },
  {
   "cell_type": "code",
   "execution_count": 4,
   "metadata": {},
   "outputs": [
    {
     "data": {
      "image/png": "[encoded data removed]",
      "text/plain": [
       "<Figure size 432x288 with 1 Axes>"
      ]
     },
     "metadata": {
      "needs_background": "light"
     },
     "output_type": "display_data"
    }
   ],
   "source": [
    "plt.scatter(data.X, data.Y);"
   ]
  },
  {
   "cell_type": "markdown",
   "metadata": {},
   "source": [
    "Нашей модели линейной регрессии нужно просто выбрать \"наилучшую\" прямую, с помощью которой мы будем допускать как можно более мелкие ошибки на этих данных.\n",
    "\n",
    "Уравнение прямой на плоскости y = kx + b, значит модель должна подобрать k и b.\n",
    "\n",
    "Какая прямая наилучшая –– зависит от того, как мы будем считать ошибки предсказаний. Обычно тут используется функция ошибок MAE - среднеквадратичное отклонения от истинных предсказаний."
   ]
  },
  {
   "cell_type": "code",
   "execution_count": 5,
   "metadata": {
    "id": "Wq9zgWjfLYKe"
   },
   "outputs": [],
   "source": [
    "#подключаем модель линейной регрессии из библиотеки sklearn\n",
    "from sklearn.linear_model import LinearRegression"
   ]
  },
  {
   "cell_type": "code",
   "execution_count": 6,
   "metadata": {
    "id": "4jMxr4oujp0u"
   },
   "outputs": [],
   "source": [
    "# будем обучатся на всех данных\n",
    "\n",
    "X_train = pd.DataFrame(data.X) # нецелевой признак"
   ]
  },
  {
   "cell_type": "code",
   "execution_count": 7,
   "metadata": {
    "id": "1FcX57gSj7Cz"
   },
   "outputs": [],
   "source": [
    "y_train = pd.DataFrame(data.Y) # целевой признак, который будем предсказывать"
   ]
  },
  {
   "cell_type": "code",
   "execution_count": 8,
   "metadata": {
    "id": "5Bei8xfujYx7"
   },
   "outputs": [],
   "source": [
    "#обучаем модель линейной регрессии\n",
    "reg_model = LinearRegression().fit(X_train, y_train)"
   ]
  },
  {
   "cell_type": "markdown",
   "metadata": {
    "id": "Fq8l3nhbLojy"
   },
   "source": [
    "Найдем коэффициент k и свободный член b."
   ]
  },
  {
   "cell_type": "code",
   "execution_count": 9,
   "metadata": {
    "colab": {
     "base_uri": "https://localhost:8080/"
    },
    "id": "WC1PlNdnLwiV",
    "outputId": "ddd33233-940c-4e72-8e7d-4c963cd09fe5"
   },
   "outputs": [
    {
     "data": {
      "text/plain": [
       "array([-3.29896907])"
      ]
     },
     "execution_count": 9,
     "metadata": {},
     "output_type": "execute_result"
    }
   ],
   "source": [
    "# b\n",
    "reg_model.intercept_"
   ]
  },
  {
   "cell_type": "code",
   "execution_count": 10,
   "metadata": {
    "colab": {
     "base_uri": "https://localhost:8080/"
    },
    "id": "rGmF1wpKLynf",
    "outputId": "64433e04-6f2e-4216-f8dd-9cc82b9fcacf"
   },
   "outputs": [
    {
     "data": {
      "text/plain": [
       "array([[2.37113402]])"
      ]
     },
     "execution_count": 10,
     "metadata": {},
     "output_type": "execute_result"
    }
   ],
   "source": [
    "# k\n",
    "reg_model.coef_"
   ]
  },
  {
   "cell_type": "markdown",
   "metadata": {},
   "source": [
    "Построим выбранную наилучшую прямую, а также отметим точки - объекты нашей выборки."
   ]
  },
  {
   "cell_type": "code",
   "execution_count": 11,
   "metadata": {},
   "outputs": [
    {
     "data": {
      "image/png": "[encoded data removed]",
      "text/plain": [
       "<Figure size 432x288 with 1 Axes>"
      ]
     },
     "metadata": {
      "needs_background": "light"
     },
     "output_type": "display_data"
    }
   ],
   "source": [
    "plt.scatter(data.X, data.Y, color=\"blue\")\n",
    "plt.plot(data.X, reg_model.predict(X_train), color=\"black\")\n",
    "\n",
    "plt.show()"
   ]
  },
  {
   "cell_type": "markdown",
   "metadata": {
    "id": "P0deXZjKL6aY"
   },
   "source": [
    "Для оценки качества модели, посчитаем как мало ошибаемся и вычислим метрику $R^2$. В данном случае посчитаем просто на тренировочных данных."
   ]
  },
  {
   "cell_type": "code",
   "execution_count": 12,
   "metadata": {
    "colab": {
     "base_uri": "https://localhost:8080/"
    },
    "id": "EW3yEjtbMFDa",
    "outputId": "5ee3e4dd-562c-4085-e143-8c0c96fe4eac"
   },
   "outputs": [
    {
     "data": {
      "text/plain": [
       "array([[ 3.81443299],\n",
       "       [39.3814433 ],\n",
       "       [37.01030928],\n",
       "       [53.60824742],\n",
       "       [13.29896907],\n",
       "       [41.75257732],\n",
       "       [15.67010309],\n",
       "       [20.41237113],\n",
       "       [44.12371134],\n",
       "       [10.92783505]])"
      ]
     },
     "execution_count": 12,
     "metadata": {},
     "output_type": "execute_result"
    }
   ],
   "source": [
    "y_predicted = reg_model.predict(X_train)\n",
    "y_predicted"
   ]
  },
  {
   "cell_type": "code",
   "execution_count": 13,
   "metadata": {
    "colab": {
     "base_uri": "https://localhost:8080/"
    },
    "id": "KLx9N15tNGJr",
    "outputId": "8a6d28dc-a3a6-4d0b-af92-c8600c5c5a33"
   },
   "outputs": [
    {
     "data": {
      "text/plain": [
       "0.8802057695907487"
      ]
     },
     "execution_count": 13,
     "metadata": {},
     "output_type": "execute_result"
    }
   ],
   "source": [
    "from sklearn.metrics import r2_score\n",
    "r2_score(y_train, y_predicted)"
   ]
  },
  {
   "cell_type": "markdown",
   "metadata": {},
   "source": [
    "Хорошее качество модели, так как $R^2$ близко к 1."
   ]
  }
 ],
 "metadata": {
  "colab": {
   "collapsed_sections": [],
   "provenance": []
  },
  "kernelspec": {
   "display_name": "Python 3 (ipykernel)",
   "language": "python",
   "name": "python3"
  },
  "language_info": {
   "codemirror_mode": {
    "name": "ipython",
    "version": 3
   },
   "file_extension": ".py",
   "mimetype": "text/x-python",
   "name": "python",
   "nbconvert_exporter": "python",
   "pygments_lexer": "ipython3",
   "version": "3.9.12"
  }
 },
 "nbformat": 4,
 "nbformat_minor": 1
}
